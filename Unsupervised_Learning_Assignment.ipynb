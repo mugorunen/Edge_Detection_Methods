{
  "cells": [
    {
      "cell_type": "markdown",
      "metadata": {
        "id": "view-in-github",
        "colab_type": "text"
      },
      "source": [
        "<a href=\"https://colab.research.google.com/github/mugorunen/Edge_Detection_Methods/blob/main/Unsupervised_Learning_Assignment.ipynb\" target=\"_parent\"><img src=\"https://colab.research.google.com/assets/colab-badge.svg\" alt=\"Open In Colab\"/></a>"
      ]
    },
    {
      "cell_type": "markdown",
      "metadata": {
        "id": "5fQqCXgadTfX"
      },
      "source": [
        "# **Unsupervised Learning**\n",
        "\n",
        "The coding questions are independent of the theoretical questions.\n",
        "\n",
        "In this assignment, we will build the simplest models for unsupervised learning for a linear neuron:\n",
        "\n",
        "$$y = \\sum\\limits_{i=1}^{n} w_i x_i. \\tag{1}$$\n",
        "\n",
        "\n",
        "Here ${x_i}$ are input neurons and $w_i$ are the associated synaptic weights. Let's start with the assumption that synaptic weights are increased in proportion to the correlation between pre-synaptic and post-synaptic activity; synchonized firing $⟶$ stronger wiring: \n",
        "\n",
        "\n",
        "$$\\Delta w_i = \\tau <y,x_i>, \\tag{2}$$\n",
        "\n",
        "where $\\Delta w_i$ is the change in the strength of synapse $w_i$, $<.>$ is the average over the time window over which the weights are updated (if $y$ and $x_i$ are observed once over the time window then $<y,x_i> = y\\,x_i $), and the parameter $\\tau > 0$ is a slow learning rate.\n",
        "\n",
        "\n",
        "\n",
        "1) Suppose you have $m$ observations for each input $x_i$: $x_i^1,x_i^2,\\cdots,x_i^m$. These observations are faster than the learning rate. After all the observations have occurred, we want to evaluate the synaptic weights. Show that the weights vector $\\mathbf{w}^T={w_1,w_2, ..., w_n}$ is the solution to a differential equation of the form:\n",
        "\n",
        "$$\\gamma \\frac{d \\mathbf{w}}{d t}  = C \\, \\mathbf{w},$$\n",
        "with $\\gamma > 0$ and $C$ is the correlation matrix such that $C_{i,j} =  \\sum\\limits_{i=1}^{m} x_i^m x_j^m$.\n",
        "\n",
        "\n"
      ]
    },
    {
      "cell_type": "code",
      "execution_count": null,
      "metadata": {
        "id": "53KFjbZoxjan"
      },
      "outputs": [],
      "source": [
        "## Answer here \n",
        "..."
      ]
    },
    {
      "cell_type": "markdown",
      "metadata": {
        "id": "LkzAUIyLxjap"
      },
      "source": [
        "2) The dataset \"input.npy\" contains presynaptic activity from two input neurons at random time points. Using the the rules (1) and (2), write a program that simulates the output $y$ and estimates the weights vector ${w_i}$. You can select the points in the data randomly and thus estimate the weights by stochastic gradient ascent. \n",
        "\n",
        "3) Run the program with 150 iterations (select randomly 150 observations out of the 1000) and plot the weights and the data. What is the estimated vector ? Do you understand why ?\n",
        "\n"
      ]
    },
    {
      "cell_type": "code",
      "execution_count": 50,
      "metadata": {
        "id": "_7Gm8FUwrvTz",
        "colab": {
          "base_uri": "https://localhost:8080/",
          "height": 472
        },
        "outputId": "e467f280-e4cd-4334-9d3e-c2057e45e7c6"
      },
      "outputs": [
        {
          "output_type": "display_data",
          "data": {
            "text/plain": [
              "<Figure size 640x480 with 1 Axes>"
            ],
            "image/png": "[encoded data removed]"
          },
          "metadata": {}
        }
      ],
      "source": [
        "import numpy as np\n",
        "\n",
        "import matplotlib.pyplot as plt\n",
        "\n",
        "\n",
        "inputdata = np.load('input.npy')\n",
        "\n",
        "nb_samples = inputdata.shape[1]\n",
        "\n",
        "\n",
        "# Set random seed for reproducibility\n",
        "np.random.seed(1)\n",
        "\n",
        "\n",
        "# 2 inputs, 1 output (initialize the weights)\n",
        "weights = np.random.rand(2,1) \n",
        "\n",
        "lrate = 0.01 # This rate should work\n",
        "\n",
        "#  CODE THE LOOP HERE AND PLOT RESULTS\n",
        "weightsvec_1 = np.empty(501)\n",
        "weightsvec_2 = np.empty(501)\n",
        "weightsvec_1[0] = weights[0]\n",
        "weightsvec_2[0] = weights[1]\n",
        "\n",
        "for i in range(500):\n",
        "  y = np.dot(weights.T,inputdata)\n",
        "  deltaw_1 = lrate*np.dot(y,inputdata[0])\n",
        "  deltaw_2 = lrate*np.dot(y,inputdata[1])\n",
        "  weights[0] = weights[0]+deltaw_1\n",
        "  weights[1] = weights[1]+deltaw_1\n",
        "  weightsvec_1[i+1]=weights[0]\n",
        "  weightsvec_2[i+1]=weights[1]\n",
        "\n",
        "\n",
        "plt.plot(weightsvec_1, label='Vector 1')\n",
        "plt.plot(weightsvec_2, label='Vector 2')\n",
        "\n",
        "# Add labels and title\n",
        "plt.xlabel('Index')\n",
        "plt.ylabel('Value')\n",
        "plt.title('Plot of NumPy Vector')\n",
        "\n",
        "\n",
        "plt.legend()\n",
        "# Display the plot\n",
        "plt.show()\n",
        "\n"
      ]
    },
    {
      "cell_type": "code",
      "source": [
        "np.dot(y, inputdata[0])"
      ],
      "metadata": {
        "id": "DEFQQCpMnXyt",
        "outputId": "89676b35-e8fb-4b14-951d-942cbf0ccf5e",
        "colab": {
          "base_uri": "https://localhost:8080/"
        }
      },
      "execution_count": 39,
      "outputs": [
        {
          "output_type": "execute_result",
          "data": {
            "text/plain": [
              "array([1.39314128e+160])"
            ]
          },
          "metadata": {},
          "execution_count": 39
        }
      ]
    },
    {
      "cell_type": "code",
      "source": [
        "np.mean(y*inputdata[0])"
      ],
      "metadata": {
        "id": "9YrBEP5uxT4x",
        "outputId": "b520e34f-6039-4ff6-e959-1d83e6a350ab",
        "colab": {
          "base_uri": "https://localhost:8080/"
        }
      },
      "execution_count": 42,
      "outputs": [
        {
          "output_type": "execute_result",
          "data": {
            "text/plain": [
              "2.7289570343571223"
            ]
          },
          "metadata": {},
          "execution_count": 42
        }
      ]
    },
    {
      "cell_type": "markdown",
      "metadata": {
        "id": "k1yv7uQXxjas"
      },
      "source": [
        "4) Run the function with 300 and 500 iterations (same wights intialization and learning rate) and plot the results. Do you understand why the weights behave this way ? Is it biologically plausible that this happens ?\n"
      ]
    },
    {
      "cell_type": "code",
      "execution_count": null,
      "metadata": {
        "id": "9qvLD1Vtxjas"
      },
      "outputs": [],
      "source": [
        "# Set random seed for reproducibility\n",
        "np.random.seed(1)\n",
        "\n",
        "\n",
        "# CODE and Answer here\n",
        "\n"
      ]
    },
    {
      "cell_type": "markdown",
      "metadata": {
        "id": "NneSu0xxxjat"
      },
      "source": [
        "From questions (1-4), you might noticed that the pure linear model will make some weights very large while reducing the others to zero. This is sometimes not desirable. Think of a layer 4 neuron taking inputs from two LGN neurons (each associated with an input from the left or the right eye). If one of the weights become very large compared to the other, we would reach a biologically implausible ocular dominance. One way to solve this problem is to constrain the growth of each weight in the following way:\n",
        "\n",
        "$$\\Delta w_i = \\tau (<y,x_i> - \\bar{w}_i y^2), \\tag{3}$$\n",
        "\n",
        "where $\\bar{w}_i$ is the current weights. This way, we make sure the weights are bounded.\n",
        "\n",
        "\n",
        "5) Update the program you wrote before to perform rule (3). Run the function with $2000$ iterations. Comment."
      ]
    },
    {
      "cell_type": "code",
      "execution_count": null,
      "metadata": {
        "id": "23lboXZYaTUT"
      },
      "outputs": [],
      "source": [
        "# Set random seed for reproducibility\n",
        "np.random.seed(1)\n",
        "\n",
        "\n",
        "# CODE and Answer here\n",
        "import numpy as np\n",
        "\n",
        "import matplotlib.pyplot as plt\n",
        "\n",
        "\n",
        "# Set random seed for reproducibility\n",
        "np.random.seed(1)\n",
        "\n",
        "\n",
        "# 2 inputs, 1 output (initialize the weights)\n",
        "weights = np.random.rand(2,1) \n",
        "\n",
        "lrate = 0.01 # This rate should work\n",
        "\n",
        "#  CODE THE LOOP HERE AND PLOT RESULTS\n",
        "weightsvec_1 = np.empty(501)\n",
        "weightsvec_2 = np.empty(501)\n",
        "weightsvec_1[0] = weights[0]\n",
        "weightsvec_2[0] = weights[1]\n",
        "\n",
        "for i in range(500):\n",
        "  y = np.dot(weights.T,inputdata)\n",
        "  deltaw_1 = lrate*(np.mean(y*inputdata[0]) - \n",
        "  deltaw_2 = lrate*(np.mean(y*inputdata[1])\n",
        "  weights[0] = weights[0]+deltaw_1\n",
        "  weights[1] = weights[1]+deltaw_1\n",
        "  weightsvec_1[i+1]=weights[0]\n",
        "  weightsvec_2[i+1]=weights[1]\n",
        "\n",
        "\n",
        "plt.plot(weightsvec_1, label='Vector 1')\n",
        "plt.plot(weightsvec_2, label='Vector 2')\n",
        "\n",
        "# Add labels and title\n",
        "plt.xlabel('Index')\n",
        "plt.ylabel('Value')\n",
        "plt.title('Plot of NumPy Vector')\n",
        "\n",
        "\n",
        "plt.legend()\n",
        "# Display the plot\n",
        "plt.show()\n",
        "\n",
        "\n",
        "\n"
      ]
    },
    {
      "cell_type": "markdown",
      "metadata": {
        "id": "B0VQN0Lixjav"
      },
      "source": [
        "Let's consider the case of multipe linear neurons each following rule (1):\n",
        "\n",
        "$$y_j = \\sum\\limits_{i=1}^{n} w_{ij} x_i. \\tag{4}$$\n",
        "\n",
        "One method to estimate the weights is by generalizing rule (3) in the following way:\n",
        "\n",
        "$$\\Delta w_{ij} = \\tau (<y_j,x_i> -  y_j \\sum\\limits_{k \\leq j}\\bar{w}_{i,k} \\, y_k), \\tag{5}$$\n",
        "\n",
        "For the first output neuron, this rule is the same as rule (3). The following weights are updated by taking the residuals from previous weights.\n",
        "\n",
        "6) Update your program in order to take into account multiple neurons following rule (5). Run the program with two output neurons using the same data and plot the weights. \n",
        "\n",
        "(This algorithm might have trouble converging. Use $20000$ iterations and initialize the weights randomly like in the other questions)\n"
      ]
    },
    {
      "cell_type": "code",
      "execution_count": null,
      "metadata": {
        "id": "QQE79I7eKAeU"
      },
      "outputs": [],
      "source": [
        "# Set random seed for reproducibility\n",
        "np.random.seed(1)\n",
        "\n",
        "\n",
        "# CODE and Answer here\n",
        "\n",
        "\n"
      ]
    },
    {
      "cell_type": "code",
      "execution_count": 49,
      "metadata": {
        "id": "OvuvQutIxjax",
        "colab": {
          "base_uri": "https://localhost:8080/",
          "height": 270
        },
        "outputId": "cc54ccdb-1596-410c-87a9-58e822d4b649"
      },
      "outputs": [
        {
          "output_type": "error",
          "ename": "ValueError",
          "evalue": "ignored",
          "traceback": [
            "\u001b[0;31m---------------------------------------------------------------------------\u001b[0m",
            "\u001b[0;31mValueError\u001b[0m                                Traceback (most recent call last)",
            "\u001b[0;32m<ipython-input-49-088c3f67170f>\u001b[0m in \u001b[0;36m<cell line: 13>\u001b[0;34m()\u001b[0m\n\u001b[1;32m     22\u001b[0m \u001b[0;34m\u001b[0m\u001b[0m\n\u001b[1;32m     23\u001b[0m     \u001b[0;31m# Calculate the predicted output\u001b[0m\u001b[0;34m\u001b[0m\u001b[0;34m\u001b[0m\u001b[0m\n\u001b[0;32m---> 24\u001b[0;31m     \u001b[0mpredicted_output\u001b[0m \u001b[0;34m=\u001b[0m \u001b[0mnp\u001b[0m\u001b[0;34m.\u001b[0m\u001b[0mdot\u001b[0m\u001b[0;34m(\u001b[0m\u001b[0mweights\u001b[0m\u001b[0;34m.\u001b[0m\u001b[0mT\u001b[0m\u001b[0;34m,\u001b[0m \u001b[0mxi\u001b[0m\u001b[0;34m)\u001b[0m\u001b[0;34m\u001b[0m\u001b[0;34m\u001b[0m\u001b[0m\n\u001b[0m\u001b[1;32m     25\u001b[0m \u001b[0;34m\u001b[0m\u001b[0m\n\u001b[1;32m     26\u001b[0m     \u001b[0;31m# Update the weights\u001b[0m\u001b[0;34m\u001b[0m\u001b[0;34m\u001b[0m\u001b[0m\n",
            "\u001b[0;32m/usr/local/lib/python3.10/dist-packages/numpy/core/overrides.py\u001b[0m in \u001b[0;36mdot\u001b[0;34m(*args, **kwargs)\u001b[0m\n",
            "\u001b[0;31mValueError\u001b[0m: shapes (1,2) and (1000,1) not aligned: 2 (dim 1) != 1000 (dim 0)"
          ]
        }
      ],
      "source": [
        "# Initialize the weights vector\n",
        "weights = np.random.rand(2, 1)\n",
        "\n",
        "# Set the learning rate and number of iterations\n",
        "learning_rate = 0.01\n",
        "num_iterations = 150\n",
        "\n",
        "# Lists to store the weights and loss values\n",
        "weights_history = [weights.copy()]\n",
        "loss_history = []\n",
        "\n",
        "# Perform stochastic gradient ascent\n",
        "for _ in range(num_iterations):\n",
        "    # Select a random observation from the input data\n",
        "    input_data = inputdata\n",
        "  \n",
        "    observation = input_data\n",
        "    \n",
        "    # Extract the input neurons xi and the target output y\n",
        "    xi = observation[:-1].reshape(-1, 1)\n",
        "    y = observation[-1]\n",
        "    \n",
        "    # Calculate the predicted output\n",
        "    predicted_output = np.dot(weights.T, xi)\n",
        "    \n",
        "    # Update the weights\n",
        "    delta_w = learning_rate * (y - predicted_output) * xi\n",
        "    weights += delta_w\n",
        "    \n",
        "    # Store the weights and loss value\n",
        "    weights_history.append(weights.copy())\n",
        "    loss = (y - predicted_output) ** 2\n",
        "    loss_history.append(loss)\n",
        "\n",
        "# Convert the weights history to a NumPy array\n",
        "weights_history = np.concatenate(weights_history, axis=1)\n",
        "\n",
        "# Plot the weights and data\n",
        "plt.figure(figsize=(10, 6))\n",
        "plt.subplot(2, 1, 1)\n",
        "plt.plot(weights_history[0], label='w1')\n",
        "plt.plot(weights_history[1], label='w2')\n",
        "plt.xlabel('Iteration')\n",
        "plt.ylabel('Weight Value')\n",
        "plt.title('Weight Evolution')\n",
        "plt.legend()\n",
        "\n",
        "plt.subplot(2, 1, 2)\n",
        "plt.scatter(input_data[:, 0], input_data[:, 1], c=input_data[:, 2], cmap='viridis')\n",
        "plt.xlabel('Input Neuron 1')\n",
        "plt.ylabel('Input Neuron 2')\n",
        "plt.title('Input Data')\n",
        "plt.colorbar()\n",
        "\n",
        "plt.tight_layout()\n",
        "plt.show()\n",
        "\n",
        "# Print the final estimated weights vector\n",
        "estimated_weights = weights_history[:, -1]\n",
        "print(\"Estimated Weights:\", estimated_weights)"
      ]
    },
    {
      "cell_type": "code",
      "source": [],
      "metadata": {
        "id": "Q8G112LR9kpu"
      },
      "execution_count": null,
      "outputs": []
    }
  ],
  "metadata": {
    "colab": {
      "name": "LearningPCA.ipynb",
      "provenance": [],
      "include_colab_link": true
    },
    "kernelspec": {
      "display_name": "Python 3",
      "language": "python",
      "name": "python3"
    },
    "language_info": {
      "codemirror_mode": {
        "name": "ipython",
        "version": 3
      },
      "file_extension": ".py",
      "mimetype": "text/x-python",
      "name": "python",
      "nbconvert_exporter": "python",
      "pygments_lexer": "ipython3",
      "version": "3.8.5"
    }
  },
  "nbformat": 4,
  "nbformat_minor": 0
}